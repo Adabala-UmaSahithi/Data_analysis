{
  "nbformat": 4,
  "nbformat_minor": 0,
  "metadata": {
    "colab": {
      "provenance": []
    },
    "kernelspec": {
      "name": "python3",
      "display_name": "Python 3"
    },
    "language_info": {
      "name": "python"
    }
  },
  "cells": [
    {
      "cell_type": "code",
      "execution_count": null,
      "metadata": {
        "id": "4k3xYbgVzu7p",
        "colab": {
          "base_uri": "https://localhost:8080/",
          "height": 1000
        },
        "outputId": "f7779da1-a89e-4214-df78-496a7fd9e8fc"
      },
      "outputs": [
        {
          "output_type": "stream",
          "name": "stdout",
          "text": [
            "    Unnamed: 0  subject attention  solutions  score\n",
            "0            0        1   divided          1    2.0\n",
            "1            1        2   divided          1    3.0\n",
            "2            2        3   divided          1    3.0\n",
            "3            3        4   divided          1    5.0\n",
            "4            4        5   divided          1    4.0\n",
            "5            5        6   divided          1    5.0\n",
            "6            6        7   divided          1    5.0\n",
            "7            7        8   divided          1    5.0\n",
            "8            8        9   divided          1    2.0\n",
            "9            9       10   divided          1    6.0\n",
            "10          10       11   focused          1    6.0\n",
            "11          11       12   focused          1    8.0\n",
            "12          12       13   focused          1    6.0\n",
            "13          13       14   focused          1    8.0\n",
            "14          14       15   focused          1    8.0\n",
            "15          15       16   focused          1    6.0\n",
            "16          16       17   focused          1    7.0\n",
            "17          17       18   focused          1    7.0\n",
            "18          18       19   focused          1    5.0\n",
            "19          19       20   focused          1    6.0\n",
            "20          20        1   divided          2    4.0\n",
            "21          21        2   divided          2    4.0\n",
            "22          22        3   divided          2    5.0\n",
            "23          23        4   divided          2    7.0\n",
            "24          24        5   divided          2    5.0\n",
            "25          25        6   divided          2    5.0\n",
            "26          26        7   divided          2    4.5\n",
            "27          27        8   divided          2    7.0\n",
            "28          28        9   divided          2    3.0\n",
            "29          29       10   divided          2    5.0\n",
            "30          30       11   focused          2    5.0\n",
            "31          31       12   focused          2    9.0\n",
            "32          32       13   focused          2    5.0\n",
            "33          33       14   focused          2    8.0\n",
            "34          34       15   focused          2    8.0\n",
            "35          35       16   focused          2    8.0\n",
            "36          36       17   focused          2    7.0\n",
            "37          37       18   focused          2    8.0\n",
            "38          38       19   focused          2    6.0\n",
            "39          39       20   focused          2    6.0\n",
            "40          40        1   divided          3    7.0\n",
            "41          41        2   divided          3    5.0\n",
            "42          42        3   divided          3    6.0\n",
            "43          43        4   divided          3    5.0\n",
            "44          44        5   divided          3    8.0\n",
            "45          45        6   divided          3    6.0\n",
            "46          46        7   divided          3    6.0\n",
            "47          47        8   divided          3    8.0\n",
            "48          48        9   divided          3    7.0\n",
            "49          49       10   divided          3    6.0\n",
            "50          50       11   focused          3    6.0\n",
            "51          51       12   focused          3    8.0\n",
            "52          52       13   focused          3    9.0\n",
            "53          53       14   focused          3    7.0\n",
            "54          54       15   focused          3    7.0\n",
            "55          55       16   focused          3    7.0\n",
            "56          56       17   focused          3    6.0\n",
            "57          57       18   focused          3    6.0\n",
            "58          58       19   focused          3    6.0\n",
            "59          59       20   focused          3    5.0\n"
          ]
        },
        {
          "output_type": "display_data",
          "data": {
            "text/plain": [
              "<Figure size 640x480 with 1 Axes>"
            ],
            "image/png": "[encoded data removed]"
          },
          "metadata": {}
        }
      ],
      "source": [
        "import seaborn as sns\n",
        "import matplotlib.pyplot as plt\n",
        "#load example dataset\n",
        "attention=sns.load_dataset(\"attention\")\n",
        "print(attention)\n",
        "#create a bar plot\n",
        "sns.barplot(x=\"solutions\",y=\"score\",data=attention)\n",
        "plt.title(\"solution vs score\")\n",
        "\n",
        "plt.xlabel(\"solutions\")\n",
        "plt.ylabel(\"Score\")\n",
        "plt.show()"
      ]
    },
    {
      "cell_type": "code",
      "source": [
        "import seaborn as sns\n",
        "#load example dataset\n",
        "attention=sns.load_dataset(\"attention\")\n",
        "print(attention)\n",
        "attention.to_csv(\"attention_database.csv\")"
      ],
      "metadata": {
        "colab": {
          "base_uri": "https://localhost:8080/"
        },
        "id": "ZKs9TVi3GcR3",
        "outputId": "fa4982ec-a2bd-4f81-9003-f587edae6045"
      },
      "execution_count": null,
      "outputs": [
        {
          "output_type": "stream",
          "name": "stdout",
          "text": [
            "    Unnamed: 0  subject attention  solutions  score\n",
            "0            0        1   divided          1    2.0\n",
            "1            1        2   divided          1    3.0\n",
            "2            2        3   divided          1    3.0\n",
            "3            3        4   divided          1    5.0\n",
            "4            4        5   divided          1    4.0\n",
            "5            5        6   divided          1    5.0\n",
            "6            6        7   divided          1    5.0\n",
            "7            7        8   divided          1    5.0\n",
            "8            8        9   divided          1    2.0\n",
            "9            9       10   divided          1    6.0\n",
            "10          10       11   focused          1    6.0\n",
            "11          11       12   focused          1    8.0\n",
            "12          12       13   focused          1    6.0\n",
            "13          13       14   focused          1    8.0\n",
            "14          14       15   focused          1    8.0\n",
            "15          15       16   focused          1    6.0\n",
            "16          16       17   focused          1    7.0\n",
            "17          17       18   focused          1    7.0\n",
            "18          18       19   focused          1    5.0\n",
            "19          19       20   focused          1    6.0\n",
            "20          20        1   divided          2    4.0\n",
            "21          21        2   divided          2    4.0\n",
            "22          22        3   divided          2    5.0\n",
            "23          23        4   divided          2    7.0\n",
            "24          24        5   divided          2    5.0\n",
            "25          25        6   divided          2    5.0\n",
            "26          26        7   divided          2    4.5\n",
            "27          27        8   divided          2    7.0\n",
            "28          28        9   divided          2    3.0\n",
            "29          29       10   divided          2    5.0\n",
            "30          30       11   focused          2    5.0\n",
            "31          31       12   focused          2    9.0\n",
            "32          32       13   focused          2    5.0\n",
            "33          33       14   focused          2    8.0\n",
            "34          34       15   focused          2    8.0\n",
            "35          35       16   focused          2    8.0\n",
            "36          36       17   focused          2    7.0\n",
            "37          37       18   focused          2    8.0\n",
            "38          38       19   focused          2    6.0\n",
            "39          39       20   focused          2    6.0\n",
            "40          40        1   divided          3    7.0\n",
            "41          41        2   divided          3    5.0\n",
            "42          42        3   divided          3    6.0\n",
            "43          43        4   divided          3    5.0\n",
            "44          44        5   divided          3    8.0\n",
            "45          45        6   divided          3    6.0\n",
            "46          46        7   divided          3    6.0\n",
            "47          47        8   divided          3    8.0\n",
            "48          48        9   divided          3    7.0\n",
            "49          49       10   divided          3    6.0\n",
            "50          50       11   focused          3    6.0\n",
            "51          51       12   focused          3    8.0\n",
            "52          52       13   focused          3    9.0\n",
            "53          53       14   focused          3    7.0\n",
            "54          54       15   focused          3    7.0\n",
            "55          55       16   focused          3    7.0\n",
            "56          56       17   focused          3    6.0\n",
            "57          57       18   focused          3    6.0\n",
            "58          58       19   focused          3    6.0\n",
            "59          59       20   focused          3    5.0\n"
          ]
        }
      ]
    },
    {
      "cell_type": "code",
      "source": [
        "import pandas as pd\n",
        "df = pd.read_csv(\"/content/attention_database.csv\")\n",
        "print(df.head())\n"
      ],
      "metadata": {
        "colab": {
          "base_uri": "https://localhost:8080/"
        },
        "id": "vlmqHOcmJsfR",
        "outputId": "487cf876-7a7e-4bb4-e0d8-52719b8e62c9"
      },
      "execution_count": null,
      "outputs": [
        {
          "output_type": "stream",
          "name": "stdout",
          "text": [
            "   Unnamed: 0.1  Unnamed: 0  subject attention  solutions  score\n",
            "0             0           0        1   divided          1    2.0\n",
            "1             1           1        2   divided          1    3.0\n",
            "2             2           2        3   divided          1    3.0\n",
            "3             3           3        4   divided          1    5.0\n",
            "4             4           4        5   divided          1    4.0\n"
          ]
        }
      ]
    },
    {
      "cell_type": "code",
      "source": [
        "print(df.tail())"
      ],
      "metadata": {
        "colab": {
          "base_uri": "https://localhost:8080/"
        },
        "id": "e_0R91_FKQEt",
        "outputId": "100d1223-5711-4787-947c-cc90fa75d9f4"
      },
      "execution_count": null,
      "outputs": [
        {
          "output_type": "stream",
          "name": "stdout",
          "text": [
            "    Unnamed: 0.1  Unnamed: 0  subject attention  solutions  score\n",
            "55            55          55       16   focused          3    7.0\n",
            "56            56          56       17   focused          3    6.0\n",
            "57            57          57       18   focused          3    6.0\n",
            "58            58          58       19   focused          3    6.0\n",
            "59            59          59       20   focused          3    5.0\n"
          ]
        }
      ]
    },
    {
      "cell_type": "code",
      "source": [
        "print(df.describe)"
      ],
      "metadata": {
        "colab": {
          "base_uri": "https://localhost:8080/"
        },
        "id": "uxVgZcTRKXAC",
        "outputId": "20eb93db-baa1-461e-a5e1-e5a80abd140c"
      },
      "execution_count": null,
      "outputs": [
        {
          "output_type": "stream",
          "name": "stdout",
          "text": [
            "<bound method NDFrame.describe of     Unnamed: 0.1  Unnamed: 0  subject attention  solutions  score\n",
            "0              0           0        1   divided          1    2.0\n",
            "1              1           1        2   divided          1    3.0\n",
            "2              2           2        3   divided          1    3.0\n",
            "3              3           3        4   divided          1    5.0\n",
            "4              4           4        5   divided          1    4.0\n",
            "5              5           5        6   divided          1    5.0\n",
            "6              6           6        7   divided          1    5.0\n",
            "7              7           7        8   divided          1    5.0\n",
            "8              8           8        9   divided          1    2.0\n",
            "9              9           9       10   divided          1    6.0\n",
            "10            10          10       11   focused          1    6.0\n",
            "11            11          11       12   focused          1    8.0\n",
            "12            12          12       13   focused          1    6.0\n",
            "13            13          13       14   focused          1    8.0\n",
            "14            14          14       15   focused          1    8.0\n",
            "15            15          15       16   focused          1    6.0\n",
            "16            16          16       17   focused          1    7.0\n",
            "17            17          17       18   focused          1    7.0\n",
            "18            18          18       19   focused          1    5.0\n",
            "19            19          19       20   focused          1    6.0\n",
            "20            20          20        1   divided          2    4.0\n",
            "21            21          21        2   divided          2    4.0\n",
            "22            22          22        3   divided          2    5.0\n",
            "23            23          23        4   divided          2    7.0\n",
            "24            24          24        5   divided          2    5.0\n",
            "25            25          25        6   divided          2    5.0\n",
            "26            26          26        7   divided          2    4.5\n",
            "27            27          27        8   divided          2    7.0\n",
            "28            28          28        9   divided          2    3.0\n",
            "29            29          29       10   divided          2    5.0\n",
            "30            30          30       11   focused          2    5.0\n",
            "31            31          31       12   focused          2    9.0\n",
            "32            32          32       13   focused          2    5.0\n",
            "33            33          33       14   focused          2    8.0\n",
            "34            34          34       15   focused          2    8.0\n",
            "35            35          35       16   focused          2    8.0\n",
            "36            36          36       17   focused          2    7.0\n",
            "37            37          37       18   focused          2    8.0\n",
            "38            38          38       19   focused          2    6.0\n",
            "39            39          39       20   focused          2    6.0\n",
            "40            40          40        1   divided          3    7.0\n",
            "41            41          41        2   divided          3    5.0\n",
            "42            42          42        3   divided          3    6.0\n",
            "43            43          43        4   divided          3    5.0\n",
            "44            44          44        5   divided          3    8.0\n",
            "45            45          45        6   divided          3    6.0\n",
            "46            46          46        7   divided          3    6.0\n",
            "47            47          47        8   divided          3    8.0\n",
            "48            48          48        9   divided          3    7.0\n",
            "49            49          49       10   divided          3    6.0\n",
            "50            50          50       11   focused          3    6.0\n",
            "51            51          51       12   focused          3    8.0\n",
            "52            52          52       13   focused          3    9.0\n",
            "53            53          53       14   focused          3    7.0\n",
            "54            54          54       15   focused          3    7.0\n",
            "55            55          55       16   focused          3    7.0\n",
            "56            56          56       17   focused          3    6.0\n",
            "57            57          57       18   focused          3    6.0\n",
            "58            58          58       19   focused          3    6.0\n",
            "59            59          59       20   focused          3    5.0>\n"
          ]
        }
      ]
    }
  ]
}